{
 "cells": [
  {
   "cell_type": "code",
   "execution_count": 1,
   "metadata": {},
   "outputs": [],
   "source": [
    "import pandas as pd\n",
    "import dill"
   ]
  },
  {
   "cell_type": "code",
   "execution_count": null,
   "metadata": {},
   "outputs": [],
   "source": [
    "topics = []\n",
    "for i, topic in enumerate(lsamodel.get_topics()):\n",
    "    df = pd.DataFrame({'keyword': list(dictionary.values()), 'weight': topic, 'num': [i]*len(topic)})\n",
    "    df.sort_values('weight', ascending=False, inplace=True)\n",
    "    topics.append(df)\n",
    "    \n",
    "topics = pd.concat(topics)\n",
    "topics.set_index(['num', 'keyword'], inplace=True)\n",
    "topics.reset_index().to_feather('transforms/topics.feather')"
   ]
  }
 ],
 "metadata": {
  "kernelspec": {
   "display_name": "Python 3",
   "language": "python",
   "name": "python3"
  },
  "language_info": {
   "codemirror_mode": {
    "name": "ipython",
    "version": 3
   },
   "file_extension": ".py",
   "mimetype": "text/x-python",
   "name": "python",
   "nbconvert_exporter": "python",
   "pygments_lexer": "ipython3",
   "version": "3.7.3"
  }
 },
 "nbformat": 4,
 "nbformat_minor": 2
}
