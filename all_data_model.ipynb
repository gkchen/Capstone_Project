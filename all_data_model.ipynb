{
 "cells": [
  {
   "cell_type": "code",
   "execution_count": 1,
   "metadata": {},
   "outputs": [],
   "source": [
    "import pandas as pd\n",
    "import numpy as np\n",
    "from tqdm import tqdm_notebook as tqdm\n",
    "from tqdm._tqdm_notebook import tqdm_notebook\n",
    "tqdm_notebook.pandas(desc='apply')\n",
    "import dill\n",
    "import os\n",
    "import sys\n",
    "import re\n",
    "import matplotlib.pyplot as plt\n",
    "\n",
    "from sklearn import base\n",
    "from sklearn.decomposition import NMF\n",
    "from sklearn.feature_extraction.text import CountVectorizer, TfidfVectorizer\n",
    "from sklearn.naive_bayes import MultinomialNB, ComplementNB\n",
    "from sklearn.svm import LinearSVC\n",
    "from sklearn.pipeline import Pipeline\n",
    "from sklearn.model_selection import train_test_split, GridSearchCV\n",
    "\n",
    "from nltk.tokenize import RegexpTokenizer\n",
    "from nltk.corpus import stopwords\n",
    "from nltk.stem.wordnet import WordNetLemmatizer\n",
    "\n",
    "%matplotlib inline"
   ]
  },
  {
   "cell_type": "code",
   "execution_count": 2,
   "metadata": {},
   "outputs": [],
   "source": [
    "class TextPreProcess(base.BaseEstimator, base.TransformerMixin):\n",
    "    \"\"\"\n",
    "    Input  : document list\n",
    "    Purpose: preprocess text (tokenize, removing stopwords, and stemming)\n",
    "    Output : preprocessed text\n",
    "    \"\"\"\n",
    "    \n",
    "    def __init__(self, ignore):\n",
    "        self.en_stop = set(stopwords.words('english')) # English stop words list\n",
    "        self.tokenizer = RegexpTokenizer(r'[a-z]+&?[a-z]+')\n",
    "        self.lemmatizer = WordNetLemmatizer()\n",
    "        self.replace = ignore\n",
    "    \n",
    "    def _process(self, text):\n",
    "        raw = text.lower()\n",
    "        for key, val in self.replace.items():\n",
    "            raw = re.sub(key, val, raw)\n",
    "        tokens = self.tokenizer.tokenize(raw)\n",
    "        stopped_tokens = [i for i in tokens if not i in self.en_stop]\n",
    "        lemma_tokens = [self.lemmatizer.lemmatize(i) for i in stopped_tokens]\n",
    "        output = ' '.join(lemma_tokens)\n",
    "        return output\n",
    "    \n",
    "    def fit(self, X, y=None):\n",
    "        return self\n",
    "    \n",
    "    def transform(self, X):\n",
    "        output = [self._process(text) for text in X]\n",
    "        return output\n",
    "    \n",
    "def _iter_titles(files):\n",
    "    for file in tqdm(files, desc='feathers'):\n",
    "        df = pd.read_feather(file, columns=['title', 'region'])\n",
    "        df = df[df['region'] != 'PR']\n",
    "        for title in tqdm(df['title']):\n",
    "            yield title\n",
    "    \n",
    "def train_model(files, transformer, estimator, classes):\n",
    "    for file in tqdm(files, desc='feathers'):\n",
    "        df = pd.read_feather(file, columns=['title', 'region'])\n",
    "        df = df[df['region'] != 'PR']\n",
    "        X = transformer.transform(df['title'])\n",
    "        estimator.partial_fit(X, df['region'], classes=classes)\n",
    "    return estimator\n",
    "\n",
    "folder = 'cleaned_cache'\n",
    "files = [os.path.join(folder, 'data_{}.feather'.format(i)) for i in range(len(os.listdir(folder)))]"
   ]
  },
  {
   "cell_type": "markdown",
   "metadata": {},
   "source": [
    "## Downsampled data"
   ]
  },
  {
   "cell_type": "code",
   "execution_count": 47,
   "metadata": {},
   "outputs": [],
   "source": [
    "df = pd.read_feather('grouped/downsampled.feather', columns=['title', 'region'])\n",
    "\n",
    "ignore = pd.read_feather('other_data/ignore.feather')\n",
    "ignore_dict = ignore.set_index('regex').to_dict()['sub']\n",
    "\n",
    "weights = pd.read_feather('other_data/census.feather', columns=['region', 'weight'])\n",
    "weights.set_index('region', inplace=True)\n",
    "weights.sort_index(inplace=True)"
   ]
  },
  {
   "cell_type": "code",
   "execution_count": 59,
   "metadata": {},
   "outputs": [],
   "source": [
    "tfv = TfidfVectorizer(sublinear_tf=True, min_df=10, ngram_range=(1,2), norm='l2')\n",
    "nb = MultinomialNB(alpha=1, class_prior=weights['weight'].tolist())\n",
    "\n",
    "X = tfv.fit_transform(df['title'])\n",
    "nb.fit(X, df['region'])\n",
    "\n",
    "pipe = Pipeline([('clean', TextPreProcess(ignore=ignore_dict)), ('tfidf', tfv), ('nb', nb)])"
   ]
  },
  {
   "cell_type": "code",
   "execution_count": 61,
   "metadata": {},
   "outputs": [
    {
     "data": {
      "text/plain": [
       "0.3442"
      ]
     },
     "execution_count": 61,
     "metadata": {},
     "output_type": "execute_result"
    }
   ],
   "source": [
    "test = df.sample(10000)\n",
    "pipe.score(test['title'], test['region'])"
   ]
  },
  {
   "cell_type": "code",
   "execution_count": 65,
   "metadata": {},
   "outputs": [
    {
     "data": {
      "text/plain": [
       "<matplotlib.axes._subplots.AxesSubplot at 0x1a354fab00>"
      ]
     },
     "execution_count": 65,
     "metadata": {},
     "output_type": "execute_result"
    },
    {
     "data": {
      "image/png": "[encoded data removed]",
      "text/plain": [
       "<Figure size 1008x432 with 1 Axes>"
      ]
     },
     "metadata": {
      "needs_background": "light"
     },
     "output_type": "display_data"
    }
   ],
   "source": [
    "test = 'software engineer'\n",
    "\n",
    "fig, ax = plt.subplots(figsize=(14,6))\n",
    "temp = pd.DataFrame({'weighted': pipe.predict_proba([test])[0], 'region': pipe.named_steps['nb'].classes_})\n",
    "temp.set_index('region', inplace=True)\n",
    "temp.sort_values('weighted', ascending=False).plot.bar(ax=ax)"
   ]
  },
  {
   "cell_type": "code",
   "execution_count": 64,
   "metadata": {},
   "outputs": [],
   "source": [
    "with open('models/sample_tfidf.pkd', 'wb') as file:\n",
    "    dill.dump(tfv, file)\n",
    "with open('models/sample_nb.pkd', 'wb') as file:\n",
    "    dill.dump(model, file)\n",
    "with open('models/sample_pipeline', 'wb') as file:\n",
    "    dill.dump(pipe, file)"
   ]
  },
  {
   "cell_type": "markdown",
   "metadata": {},
   "source": [
    "## Multinominal Naive-Bayes"
   ]
  },
  {
   "cell_type": "code",
   "execution_count": 71,
   "metadata": {},
   "outputs": [],
   "source": [
    "with open('models/top_tfidf.pkd', 'rb') as file:\n",
    "    tfv = dill.load(file)\n",
    "    \n",
    "ignore = pd.read_feather('other_data/ignore.feather')\n",
    "ignore_dict = ignore.set_index('regex').to_dict()['sub']\n",
    "\n",
    "folder = 'cleaned_cache'\n",
    "files = [os.path.join(folder, 'data_{}.feather'.format(i)) for i in range(len(os.listdir(folder)))]\n",
    "\n",
    "classes = pd.read_feather('other_data/us_states.feather', columns=['Abrv'])['Abrv']\n",
    "\n",
    "weights = pd.read_feather('other_data/census.feather', columns=['region', 'weight'])\n",
    "weights.set_index('region', inplace=True)\n",
    "weights.sort_index(inplace=True)\n",
    "weights = weights['weight'].tolist()"
   ]
  },
  {
   "cell_type": "markdown",
   "metadata": {},
   "source": [
    "### without weights"
   ]
  },
  {
   "cell_type": "code",
   "execution_count": 5,
   "metadata": {},
   "outputs": [
    {
     "data": {
      "application/vnd.jupyter.widget-view+json": {
       "model_id": "084513599e274c4089c4a041fd1f5659",
       "version_major": 2,
       "version_minor": 0
      },
      "text/plain": [
       "HBox(children=(IntProgress(value=0, description='feathers', max=41, style=ProgressStyle(description_width='ini…"
      ]
     },
     "metadata": {},
     "output_type": "display_data"
    },
    {
     "name": "stdout",
     "output_type": "stream",
     "text": [
      "\n"
     ]
    }
   ],
   "source": [
    "nb = MultinomialNB(alpha=1)\n",
    "\n",
    "nb = train_model(files, transformer=tfv, estimator=nb, classes=classes)"
   ]
  },
  {
   "cell_type": "code",
   "execution_count": 8,
   "metadata": {},
   "outputs": [],
   "source": [
    "pipe = Pipeline([('clean', TextPreProcess(ignore=ignore_dict)), ('tfidf', tfv), ('nb', nb)])"
   ]
  },
  {
   "cell_type": "code",
   "execution_count": 10,
   "metadata": {},
   "outputs": [],
   "source": [
    "with open('models/mnb_unweighted/nb.pkd', 'wb') as file:\n",
    "    dill.dump(nb, file)\n",
    "with open('models/mnb_unweighted/pipeline.pkd', 'wb') as file:\n",
    "    dill.dump(pipe, file)"
   ]
  },
  {
   "cell_type": "code",
   "execution_count": 77,
   "metadata": {},
   "outputs": [],
   "source": [
    "with open('models/mnb_unweighted/pipeline.pkd', 'rb') as file:\n",
    "    all_pipe = dill.load(file)"
   ]
  },
  {
   "cell_type": "markdown",
   "metadata": {},
   "source": [
    "### with weights"
   ]
  },
  {
   "cell_type": "code",
   "execution_count": 73,
   "metadata": {},
   "outputs": [
    {
     "data": {
      "application/vnd.jupyter.widget-view+json": {
       "model_id": "91023c2c693343a0ac17fe59819fe47b",
       "version_major": 2,
       "version_minor": 0
      },
      "text/plain": [
       "HBox(children=(IntProgress(value=0, description='feathers', max=41, style=ProgressStyle(description_width='ini…"
      ]
     },
     "metadata": {},
     "output_type": "display_data"
    },
    {
     "name": "stdout",
     "output_type": "stream",
     "text": [
      "\n"
     ]
    }
   ],
   "source": [
    "nb = MultinomialNB(alpha=1, class_prior=weights)\n",
    "\n",
    "nb = train_model(files, transformer=tfv, estimator=nb, classes=classes)"
   ]
  },
  {
   "cell_type": "code",
   "execution_count": 74,
   "metadata": {},
   "outputs": [],
   "source": [
    "per_capita_pipe = Pipeline([('clean', TextPreProcess(ignore=ignore_dict)), ('tfidf', tfv), ('nb', nb)])"
   ]
  },
  {
   "cell_type": "code",
   "execution_count": 75,
   "metadata": {},
   "outputs": [],
   "source": [
    "with open('models/per_capita_nb.pkd', 'wb') as file:\n",
    "    dill.dump(nb, file)\n",
    "with open('models/per_capita_pipeline.pkd', 'wb') as file:\n",
    "    dill.dump(pipe, file)"
   ]
  },
  {
   "cell_type": "code",
   "execution_count": 85,
   "metadata": {},
   "outputs": [
    {
     "data": {
      "text/plain": [
       "<matplotlib.axes._subplots.AxesSubplot at 0x1a22749f60>"
      ]
     },
     "execution_count": 85,
     "metadata": {},
     "output_type": "execute_result"
    },
    {
     "data": {
      "image/png": "[encoded data removed]",
      "text/plain": [
       "<Figure size 1008x432 with 1 Axes>"
      ]
     },
     "metadata": {
      "needs_background": "light"
     },
     "output_type": "display_data"
    }
   ],
   "source": [
    "test = 'registered nurse'\n",
    "\n",
    "fig, ax = plt.subplots(figsize=(14,6))\n",
    "temp = pd.DataFrame({'per_capita': per_capita_pipe.predict_proba([test])[0], 'all': all_pipe.predict_proba([test])[0], 'region': pipe.named_steps['nb'].classes_})\n",
    "temp.set_index('region', inplace=True)\n",
    "temp.sort_values('per_capita', ascending=False).plot.bar(ax=ax)"
   ]
  }
 ],
 "metadata": {
  "kernelspec": {
   "display_name": "Python 3",
   "language": "python",
   "name": "python3"
  },
  "language_info": {
   "codemirror_mode": {
    "name": "ipython",
    "version": 3
   },
   "file_extension": ".py",
   "mimetype": "text/x-python",
   "name": "python",
   "nbconvert_exporter": "python",
   "pygments_lexer": "ipython3",
   "version": "3.7.3"
  }
 },
 "nbformat": 4,
 "nbformat_minor": 4
}
