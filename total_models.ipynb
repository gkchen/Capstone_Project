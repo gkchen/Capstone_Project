{
 "cells": [
  {
   "cell_type": "code",
   "execution_count": 4,
   "metadata": {},
   "outputs": [],
   "source": [
    "import pandas as pd\n",
    "import numpy as np\n",
    "from tqdm import tqdm_notebook as tqdm\n",
    "from tqdm._tqdm_notebook import tqdm_notebook\n",
    "tqdm_notebook.pandas(desc='apply')\n",
    "import dill\n",
    "import os\n",
    "import sys\n",
    "import re\n",
    "# import matplotlib.pyplot as plt\n",
    "\n",
    "from sklearn import base\n",
    "from sklearn.feature_extraction.text import TfidfVectorizer\n",
    "from sklearn.naive_bayes import MultinomialNB, ComplementNB\n",
    "from sklearn.pipeline import Pipeline\n",
    "# from sklearn.model_selection import train_test_split, GridSearchCV\n",
    "\n",
    "from nltk.tokenize import RegexpTokenizer\n",
    "from nltk.corpus import stopwords\n",
    "from nltk.stem.wordnet import WordNetLemmatizer\n",
    "\n",
    "# %matplotlib inline"
   ]
  },
  {
   "cell_type": "code",
   "execution_count": 11,
   "metadata": {},
   "outputs": [],
   "source": [
    "class TextPreProcess(base.BaseEstimator, base.TransformerMixin):\n",
    "    \"\"\"\n",
    "    Input  : document list\n",
    "    Purpose: preprocess text (tokenize, removing stopwords, and stemming)\n",
    "    Output : preprocessed text\n",
    "    \"\"\"\n",
    "    \n",
    "    def __init__(self, ignore):\n",
    "        self.en_stop = set(stopwords.words('english')) # English stop words list\n",
    "        self.tokenizer = RegexpTokenizer(r'[a-z]+&?[a-z]+')\n",
    "        self.lemmatizer = WordNetLemmatizer()\n",
    "        self.replace = ignore\n",
    "    \n",
    "    def _process(self, text):\n",
    "        raw = text.lower()\n",
    "        for key, val in self.replace.items():\n",
    "            raw = re.sub(key, val, raw)\n",
    "        tokens = self.tokenizer.tokenize(raw)\n",
    "        stopped_tokens = [i for i in tokens if not i in self.en_stop]\n",
    "        lemma_tokens = [self.lemmatizer.lemmatize(i) for i in stopped_tokens]\n",
    "        output = ' '.join(lemma_tokens)\n",
    "        return output\n",
    "    \n",
    "    def fit(self, X, y=None):\n",
    "        return self\n",
    "    \n",
    "    def transform(self, X):\n",
    "        output = [self._process(text) for text in X]\n",
    "        return output\n",
    "\n",
    "def _partial_fit(transformer, estimator, X, y, **kwargs):\n",
    "    X = transformer.transform(X)\n",
    "    estimator.partial_fit(X, y, **kwargs)\n",
    "    del X, y\n",
    "    return None\n",
    "\n",
    "def fit_model(files, transformer, estimator, classes, save=False, filename='models/mnb_unweighted/estimator.pkd'):\n",
    "    for file in tqdm(files, desc='feathers'):\n",
    "        df = pd.read_feather(file)\n",
    "        _partial_fit(transformer, estimator, X=df['title'], y=df['region'], classes=classes)\n",
    "    if save:\n",
    "        with open(filename, 'wb') as file:\n",
    "            dill.dump(estimator, file)\n",
    "    return estimator"
   ]
  },
  {
   "cell_type": "code",
   "execution_count": 12,
   "metadata": {},
   "outputs": [],
   "source": [
    "with open('grouped/weeks.pkd', 'rb') as file:\n",
    "    weeks = dill.load(file)\n",
    "    \n",
    "with open('models/tfidf/top_tfidf.pkd', 'rb') as file:\n",
    "    tfv = dill.load(file)\n",
    "\n",
    "classes = pd.read_feather('other_data/us_states.feather', columns=['Abrv'])\n",
    "\n",
    "weights = pd.read_feather('other_data/census.feather', columns=['region', 'weight'])\n",
    "weights.set_index('region', inplace=True)\n",
    "weights.sort_index(inplace=True)\n",
    "weights = weights['weight'].tolist()\n",
    "\n",
    "folder = 'cleaned_cache'\n",
    "files = [os.path.join(folder, 'data_{}.feather'.format(i)) for i in range(len(os.listdir(folder)))]"
   ]
  },
  {
   "cell_type": "code",
   "execution_count": 13,
   "metadata": {
    "jupyter": {
     "outputs_hidden": true
    }
   },
   "outputs": [
    {
     "data": {
      "application/vnd.jupyter.widget-view+json": {
       "model_id": "1b38e048d6464aa2ab4f195f190bdcab",
       "version_major": 2,
       "version_minor": 0
      },
      "text/plain": [
       "HBox(children=(IntProgress(value=0, description='feathers', max=41, style=ProgressStyle(description_width='ini…"
      ]
     },
     "metadata": {},
     "output_type": "display_data"
    },
    {
     "name": "stdout",
     "output_type": "stream",
     "text": [
      "\n",
      "CPU times: user 15min 33s, sys: 42.7 s, total: 16min 16s\n",
      "Wall time: 16min 33s\n"
     ]
    }
   ],
   "source": [
    "%%time\n",
    "\n",
    "est = MultinomialNB(alpha=1)\n",
    "estimators = fit_model(files, tfv, est, classes, save=True, filename='models/mnb_unweighted/top_vocabulary/estimator.pkd')"
   ]
  }
 ],
 "metadata": {
  "kernelspec": {
   "display_name": "Python 3",
   "language": "python",
   "name": "python3"
  },
  "language_info": {
   "codemirror_mode": {
    "name": "ipython",
    "version": 3
   },
   "file_extension": ".py",
   "mimetype": "text/x-python",
   "name": "python",
   "nbconvert_exporter": "python",
   "pygments_lexer": "ipython3",
   "version": "3.7.3"
  }
 },
 "nbformat": 4,
 "nbformat_minor": 4
}
