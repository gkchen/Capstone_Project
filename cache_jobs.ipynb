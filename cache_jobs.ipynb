{
 "cells": [
  {
   "cell_type": "code",
   "execution_count": 1,
   "metadata": {},
   "outputs": [],
   "source": [
    "import pandas as pd\n",
    "import numpy as np\n",
    "from tqdm import tqdm_notebook as tqdm\n",
    "from random import sample\n",
    "import dill\n",
    "import re\n",
    "import os\n",
    "import sys"
   ]
  },
  {
   "cell_type": "markdown",
   "metadata": {},
   "source": [
    "# Parse and cache .zip files"
   ]
  },
  {
   "cell_type": "code",
   "execution_count": 2,
   "metadata": {},
   "outputs": [],
   "source": [
    "def _no_location(df):\n",
    "    truth = np.array(df['region'].isna().tolist() and df['locality'].isna().tolist())\n",
    "    idx = df[truth].index\n",
    "    df.drop(idx, inplace=True)\n",
    "    return None\n",
    "\n",
    "def _abrv_states(df):\n",
    "    df['region'] = df['region'].str.upper().replace(states_dict)\n",
    "    return None\n",
    "\n",
    "def _in_usa(df):\n",
    "    truth = df[['region']].isin(states_dict.values())['region']\n",
    "    idx = df[~truth].index\n",
    "    df.drop(idx, inplace=True)\n",
    "    return None\n",
    "\n",
    "def _has_title(df):\n",
    "    df.dropna(subset=['title'], inplace=True)\n",
    "    return None\n",
    "\n",
    "def _combine_dates(df):\n",
    "    df['posted_date'].fillna(df['date_added'], inplace=True)\n",
    "    df.drop('date_added', axis=1, inplace=True)\n",
    "    df.rename(columns={'posted_date': 'date'}, inplace=True)\n",
    "    return None\n",
    "\n",
    "def _has_dates(df, columns):\n",
    "    df.dropna(subset=columns, how='all', inplace=True)\n",
    "    return None\n",
    "\n",
    "def _date_parser(s):\n",
    "    output = pd.to_datetime(s, format='%Y-%m-%d', errors='coerce')\n",
    "    return output\n",
    "\n",
    "def _clean_and_save_chunk(file, num=0, **kwargs):\n",
    "    for chunk in pd.read_csv(file, **kwargs):\n",
    "        _has_title(chunk)\n",
    "        _has_dates(chunk, columns=date_cols)\n",
    "        _abrv_states(chunk)\n",
    "        _in_usa(chunk)\n",
    "        chunk.reset_index(drop=True).to_feather('raw_cache/data_{}.feather'.format(num))\n",
    "        num += 1\n",
    "    return num\n",
    "\n",
    "def cache_files(files, num=0, **kwargs):\n",
    "    for file in tqdm(files, desc='zip files'):\n",
    "        num = _clean_and_save_chunk(file, num=num, **kwargs)\n",
    "    return None"
   ]
  },
  {
   "cell_type": "code",
   "execution_count": 27,
   "metadata": {},
   "outputs": [],
   "source": [
    "pop = pd.read_feather('other_data/census.feather')\n",
    "states = pd.read_feather('other_data/us_states.feather')\n",
    "states_dict = states.set_index('STATE').to_dict()['Abrv']\n",
    "\n",
    "zip_columns = ['title', 'brand', 'category', 'locality', 'region', 'date_added', 'posted_date']\n",
    "date_cols = ['date_added', 'posted_date']\n",
    "\n",
    "start = pd.datetime(2017, 12, 1)\n",
    "end = pd.datetime(2018, 7, 21)"
   ]
  },
  {
   "cell_type": "code",
   "execution_count": 106,
   "metadata": {},
   "outputs": [
    {
     "data": {
      "application/vnd.jupyter.widget-view+json": {
       "model_id": "dac11149672e420aac28d52555acb444",
       "version_major": 2,
       "version_minor": 0
      },
      "text/plain": [
       "HBox(children=(IntProgress(value=0, description='zip files', max=7, style=ProgressStyle(description_width='ini…"
      ]
     },
     "metadata": {},
     "output_type": "display_data"
    }
   ],
   "source": [
    "folder = 'raw_zips'\n",
    "files = [os.path.join(folder, file) for file in os.listdir(folder)]\n",
    "cache_files(files, usecols=zip_columns, chunksize=1e7, compression='infer', dtype=str, parse_dates=date_cols, date_parser=_date_parser)"
   ]
  },
  {
   "cell_type": "markdown",
   "metadata": {},
   "source": [
    "# Group data\n",
    "\n",
    "Group by day, week, state, and city over time and cache"
   ]
  },
  {
   "cell_type": "code",
   "execution_count": 2,
   "metadata": {},
   "outputs": [],
   "source": [
    "def _get_df(file, **kwargs):\n",
    "    df = pd.read_feather(file, **kwargs)\n",
    "    _within_range(df)\n",
    "    df.dropna(subset=['posted_date'], inplace=True)\n",
    "#     _add_day_of_week(df)\n",
    "    return df\n",
    "\n",
    "def _within_range(df):\n",
    "    start = pd.datetime(2017, 1, 1)\n",
    "    end = pd.datetime(2018, 7, 1)\n",
    "    truth = ~df['posted_date'].isin(pd.date_range(start, end))\n",
    "    df.drop(df[truth].index, inplace=True)\n",
    "\n",
    "def _add_day_of_week(df):\n",
    "    days = ['Monday','Tuesday','Wednesday','Thursday','Friday','Saturday', 'Sunday']\n",
    "    df['day_of_week'] = pd.Categorical(df['posted_date'].dt.day_name(), categories=days, ordered=True)\n",
    "    return None"
   ]
  },
  {
   "cell_type": "code",
   "execution_count": 18,
   "metadata": {},
   "outputs": [
    {
     "data": {
      "application/vnd.jupyter.widget-view+json": {
       "model_id": "ed3e7d04408b4adc97fa9c28aa9df806",
       "version_major": 2,
       "version_minor": 0
      },
      "text/plain": [
       "HBox(children=(IntProgress(value=0, description='feather_files', max=41, style=ProgressStyle(description_width…"
      ]
     },
     "metadata": {},
     "output_type": "display_data"
    },
    {
     "name": "stdout",
     "output_type": "stream",
     "text": [
      "\n"
     ]
    }
   ],
   "source": [
    "job_counts = None\n",
    "folder = 'raw_cache'\n",
    "files = [os.path.join(folder, file) for file in os.listdir(folder) if file.endswith('.feather')]\n",
    "\n",
    "for file in tqdm(files, desc='feather_files'):\n",
    "    df = _get_df(file, columns=['locality', 'region', 'posted_date'])\n",
    "    df['posts'] = 1\n",
    "    grouped = df.groupby(['locality', 'region', 'posted_date']).sum()\n",
    "    if job_counts is None:\n",
    "        job_counts = pd.Series()\n",
    "        job_counts.name = 'posts'\n",
    "        job_counts = job_counts.add(grouped['posts'], level='locality', fill_value=0)\n",
    "    else:\n",
    "        job_counts = job_counts.add(grouped['posts'], fill_value=0)\n",
    "        \n",
    "job_counts = job_counts.reset_index()\n",
    "job_counts['posts'] = job_counts['posts'].astype(int)\n",
    "job_counts.to_feather('grouped/job_counts.feather')"
   ]
  },
  {
   "cell_type": "markdown",
   "metadata": {},
   "source": [
    "# Dimensionality reduction\n",
    "\n",
    "I want to apply SVD onto a sparse matrix of counted terms from `CountVectorizer` to get the principle axes, but `TruncatedSVD` from `sklearn` is too memory intensive and takes a long time. A solution is to possibly find an on-line algorithm that is something like gradient descent for SVD. I found a couple of resources to go through for this:\n",
    "\n",
    "- [stack exchange](https://stats.stackexchange.com/questions/177007/updating-svd-decomposition-after-adding-one-new-row-to-the-matrix)\n",
    "- [gensim](https://pypi.org/project/gensim/)\n",
    "- [surprise](http://surpriselib.com/)\n",
    "- [sparsesvd](https://pypi.org/project/sparsesvd/)\n",
    "\n",
    "I'm leaning towards `gensim` at the moment, there are good resources for it and it seems like it is widely used for this expressed purpose, in particular, the `Latent Semantic Indexing` transformation. [Data Camp](https://www.datacamp.com/community/tutorials/discovering-hidden-topics-python) has a resource outlining this exact procedure."
   ]
  },
  {
   "cell_type": "code",
   "execution_count": 2,
   "metadata": {},
   "outputs": [],
   "source": [
    "from sklearn import base\n",
    "from sklearn.feature_extraction.text import CountVectorizer\n",
    "from sklearn.pipeline import Pipeline\n",
    "from gensim import corpora\n",
    "from gensim.models import LsiModel\n",
    "from gensim.models.lsimodel import stochastic_svd\n",
    "from nltk import download\n",
    "from nltk.tokenize import RegexpTokenizer\n",
    "from nltk.corpus import stopwords\n",
    "from nltk.stem.snowball import SnowballStemmer\n",
    "from nltk.stem.wordnet import WordNetLemmatizer\n",
    "from gensim.models.coherencemodel import CoherenceModel\n",
    "import matplotlib.pyplot as plt"
   ]
  },
  {
   "cell_type": "markdown",
   "metadata": {},
   "source": [
    "## Process titles"
   ]
  },
  {
   "cell_type": "code",
   "execution_count": 27,
   "metadata": {},
   "outputs": [],
   "source": [
    "def preprocess_data(doc_set):\n",
    "    \"\"\"\n",
    "    Input  : docuemnt list\n",
    "    Purpose: preprocess text (tokenize, removing stopwords, and lemmatize)\n",
    "    Output : preprocessed text\n",
    "    \"\"\"\n",
    "    # initialize regex tokenizer\n",
    "    tokenizer = RegexpTokenizer(r'\\w+')\n",
    "    # create English stop words list\n",
    "    en_stop = set(stopwords.words('english'))\n",
    "    # Create p_stemmer of class PorterStemmer\n",
    "    lemmatizer = WordNetLemmatizer()\n",
    "    # list for tokenized documents in loop\n",
    "    texts = []\n",
    "    # loop through document list\n",
    "    for i in doc_set:\n",
    "        # clean and tokenize document string\n",
    "        raw = i.lower()\n",
    "        tokens = tokenizer.tokenize(raw)\n",
    "        # remove stop words from tokens\n",
    "        stopped_tokens = [i for i in tokens if not i in en_stop]\n",
    "        # stem tokens\n",
    "        stemmed_tokens = [lemmatizer.lemmatize(i) for i in stopped_tokens]\n",
    "        # add tokens to list\n",
    "        texts.append(stemmed_tokens)\n",
    "    return texts\n",
    "\n",
    "def prepare_corpus(doc_clean):\n",
    "    \"\"\"\n",
    "    Input  : clean document\n",
    "    Purpose: create term dictionary of our courpus and Converting list of documents (corpus) into Document Term Matrix\n",
    "    Output : term dictionary and Document Term Matrix\n",
    "    \"\"\"\n",
    "    # Creating the term dictionary of our courpus, where every unique term is assigned an index. dictionary = corpora.Dictionary(doc_clean)\n",
    "    dictionary = corpora.Dictionary(doc_clean)\n",
    "    # Converting list of documents (corpus) into Document Term Matrix using dictionary prepared above.\n",
    "    doc_term_matrix = [dictionary.doc2bow(doc) for doc in doc_clean]\n",
    "    # generate LDA model\n",
    "    return dictionary, doc_term_matrix\n",
    "\n",
    "def create_gensim_lsa_model(doc_clean, number_of_topics):\n",
    "    \"\"\"\n",
    "    Input  : clean document, number of topics and number of words associated with each topic\n",
    "    Purpose: create LSA model using gensim\n",
    "    Output : return LSA model\n",
    "    \"\"\"\n",
    "    dictionary,doc_term_matrix=prepare_corpus(doc_clean)\n",
    "    # generate LSA model\n",
    "    lsamodel = LsiModel(doc_term_matrix, num_topics=number_of_topics, id2word = dictionary)  # train model\n",
    "#     print(lsamodel.print_topics(num_topics=number_of_topics, num_words=words))\n",
    "    return lsamodel\n",
    "\n",
    "def compute_coherence_values(dictionary, doc_term_matrix, doc_clean, stop, start=2, step=3):\n",
    "    \"\"\"\n",
    "    Input   : dictionary : Gensim dictionary\n",
    "              corpus : Gensim corpus\n",
    "              texts : List of input texts\n",
    "              stop : Max num of topics\n",
    "    purpose : Compute c_v coherence for various number of topics\n",
    "    Output  : model_list : List of LSA topic models\n",
    "              coherence_values : Coherence values corresponding to the LDA model with respective number of topics\n",
    "    \"\"\"\n",
    "    coherence_values = []\n",
    "    model_list = []\n",
    "    for num_topics in range(start, stop, step):\n",
    "        # generate LSA model\n",
    "        model = LsiModel(doc_term_matrix, num_topics=number_of_topics, id2word = dictionary)  # train model\n",
    "        model_list.append(model)\n",
    "        coherencemodel = CoherenceModel(model=model, texts=doc_clean, dictionary=dictionary, coherence='c_v')\n",
    "        coherence_values.append(coherencemodel.get_coherence())\n",
    "    return model_list, coherence_values"
   ]
  },
  {
   "cell_type": "code",
   "execution_count": 20,
   "metadata": {},
   "outputs": [
    {
     "ename": "NameError",
     "evalue": "name 'base' is not defined",
     "output_type": "error",
     "traceback": [
      "\u001b[0;31m---------------------------------------------------------------------------\u001b[0m",
      "\u001b[0;31mNameError\u001b[0m                                 Traceback (most recent call last)",
      "\u001b[0;32m<ipython-input-20-ca196b7e9a04>\u001b[0m in \u001b[0;36m<module>\u001b[0;34m\u001b[0m\n\u001b[1;32m      2\u001b[0m \u001b[0mignore\u001b[0m \u001b[0;34m=\u001b[0m \u001b[0mignore\u001b[0m\u001b[0;34m.\u001b[0m\u001b[0mset_index\u001b[0m\u001b[0;34m(\u001b[0m\u001b[0;34m'regex'\u001b[0m\u001b[0;34m)\u001b[0m\u001b[0;34m.\u001b[0m\u001b[0mto_dict\u001b[0m\u001b[0;34m(\u001b[0m\u001b[0;34m)\u001b[0m\u001b[0;34m[\u001b[0m\u001b[0;34m'sub'\u001b[0m\u001b[0;34m]\u001b[0m\u001b[0;34m\u001b[0m\u001b[0;34m\u001b[0m\u001b[0m\n\u001b[1;32m      3\u001b[0m \u001b[0;34m\u001b[0m\u001b[0m\n\u001b[0;32m----> 4\u001b[0;31m \u001b[0;32mclass\u001b[0m \u001b[0mTextPreProcess\u001b[0m\u001b[0;34m(\u001b[0m\u001b[0mbase\u001b[0m\u001b[0;34m.\u001b[0m\u001b[0mBaseEstimator\u001b[0m\u001b[0;34m,\u001b[0m \u001b[0mbase\u001b[0m\u001b[0;34m.\u001b[0m\u001b[0mTransformerMixin\u001b[0m\u001b[0;34m)\u001b[0m\u001b[0;34m:\u001b[0m\u001b[0;34m\u001b[0m\u001b[0;34m\u001b[0m\u001b[0m\n\u001b[0m\u001b[1;32m      5\u001b[0m     \"\"\"\n\u001b[1;32m      6\u001b[0m     \u001b[0mInput\u001b[0m  \u001b[0;34m:\u001b[0m \u001b[0mdocument\u001b[0m \u001b[0mlist\u001b[0m\u001b[0;34m\u001b[0m\u001b[0;34m\u001b[0m\u001b[0m\n",
      "\u001b[0;31mNameError\u001b[0m: name 'base' is not defined"
     ]
    }
   ],
   "source": [
    "class TextPreProcess(base.BaseEstimator, base.TransformerMixin):\n",
    "    \"\"\"\n",
    "    Input  : document list\n",
    "    Purpose: preprocess text (tokenize, removing stopwords, and stemming)\n",
    "    Output : preprocessed text\n",
    "    \"\"\"\n",
    "    \n",
    "    def __init__(self, ignore):\n",
    "        self.en_stop = set(stopwords.words('english')) # English stop words list\n",
    "        self.tokenizer = RegexpTokenizer(r'[a-z]+&?[a-z]+')\n",
    "        self.lemmatizer = WordNetLemmatizer()\n",
    "        self.replace = ignore\n",
    "    \n",
    "    def _process(self, text):\n",
    "        raw = text.lower()\n",
    "        for key, val in self.replace.items():\n",
    "            raw = re.sub(key, val, raw)\n",
    "        tokens = self.tokenizer.tokenize(raw)\n",
    "        stopped_tokens = [i for i in tokens if not i in self.en_stop]\n",
    "        lemma_tokens = [self.lemmatizer.lemmatize(i) for i in stopped_tokens]\n",
    "        output = lemma_tokens\n",
    "        return output\n",
    "    \n",
    "    def fit(self, X, y=None):\n",
    "        return self\n",
    "    \n",
    "    def transform(self, X):\n",
    "        output = X.apply(self._process)\n",
    "        return output"
   ]
  },
  {
   "cell_type": "markdown",
   "metadata": {},
   "source": [
    "## Clean and cache titles"
   ]
  },
  {
   "cell_type": "code",
   "execution_count": 25,
   "metadata": {},
   "outputs": [
    {
     "data": {
      "application/vnd.jupyter.widget-view+json": {
       "model_id": "8f7a8bc38e3b43c69b4188376aa945b9",
       "version_major": 2,
       "version_minor": 0
      },
      "text/plain": [
       "HBox(children=(IntProgress(value=0, description='clean titles', max=41, style=ProgressStyle(description_width=…"
      ]
     },
     "metadata": {},
     "output_type": "display_data"
    }
   ],
   "source": [
    "folder = 'raw_cache'\n",
    "files = [os.path.join(folder, file) for file in os.listdir(folder) if file.endswith('.feather')]\n",
    "ignore = pd.read_feather('other_data/ignore.feather')\n",
    "ignore_dict = ignore.set_index('regex').to_dict()['sub']\n",
    "\n",
    "tpp = TextPreProcess(ignore_dict)\n",
    "\n",
    "i = 0\n",
    "for file in tqdm(files, desc='clean titles'):\n",
    "    df = _get_df(file, columns=['title', 'region', 'posted_date'])\n",
    "    df['title'] = tpp.fit_transform(df['title'])\n",
    "    df.reset_index(drop=True).to_feather('cleaned_titles/titles_{}.feather'.format(i))\n",
    "    i += 1"
   ]
  },
  {
   "cell_type": "markdown",
   "metadata": {},
   "source": [
    "## Produce dictionary"
   ]
  },
  {
   "cell_type": "code",
   "execution_count": 131,
   "metadata": {},
   "outputs": [],
   "source": [
    "def _add_to_dictionary(file, dictionary):\n",
    "    df = pd.read_feather(file, columns=['title'])\n",
    "    text = df['title'].str.split()\n",
    "    dictionary.add_documents(text, prune_at=5000)\n",
    "    return None\n",
    "\n",
    "def get_dictionary(files):\n",
    "    dictionary = corpora.Dictionary(prune_at=5000)\n",
    "    for file in tqdm(files, desc='produce dictionary'):\n",
    "        _add_to_dictionary(file, dictionary)\n",
    "    bad = [dictionary.token2id[s] for s in ['nd', 'rd', 'st']]\n",
    "    dictionary.filter_tokens(bad_ids=bad)\n",
    "    dictionary.compactify() \n",
    "    return dictionary"
   ]
  },
  {
   "cell_type": "code",
   "execution_count": 18,
   "metadata": {},
   "outputs": [],
   "source": [
    "folder = 'title_cache'\n",
    "files = [os.path.join(folder, file) for file in os.listdir(folder) if file.endswith('.feather')]\n",
    "\n",
    "dictionary = get_dictionary(files)\n",
    "\n",
    "with open('transforms/dictionary.pkd', 'wb') as file:\n",
    "    dill.dump(dictionary, file)"
   ]
  },
  {
   "cell_type": "code",
   "execution_count": 25,
   "metadata": {},
   "outputs": [],
   "source": [
    "with open('transforms/dictionary.pkd', 'rb') as file:\n",
    "    dictionary = dill.load(file)"
   ]
  },
  {
   "cell_type": "code",
   "execution_count": 28,
   "metadata": {},
   "outputs": [
    {
     "name": "stderr",
     "output_type": "stream",
     "text": [
      "/Users/garychen/anaconda3/envs/TDI/lib/python3.7/site-packages/pyarrow/pandas_compat.py:752: FutureWarning: .labels was deprecated in version 0.24.0. Use .codes instead.\n",
      "  labels, = index.labels\n"
     ]
    }
   ],
   "source": [
    "folder = 'raw_cache'\n",
    "files = [os.path.join(folder, file) for file in os.listdir(folder) if file.endswith('.feather')]\n",
    "\n",
    "df = pd.read_feather(files[0], columns=['title'])\n",
    "    "
   ]
  },
  {
   "cell_type": "code",
   "execution_count": 29,
   "metadata": {
    "collapsed": true
   },
   "outputs": [
    {
     "data": {
      "text/html": [
       "<div>\n",
       "<style scoped>\n",
       "    .dataframe tbody tr th:only-of-type {\n",
       "        vertical-align: middle;\n",
       "    }\n",
       "\n",
       "    .dataframe tbody tr th {\n",
       "        vertical-align: top;\n",
       "    }\n",
       "\n",
       "    .dataframe thead th {\n",
       "        text-align: right;\n",
       "    }\n",
       "</style>\n",
       "<table border=\"1\" class=\"dataframe\">\n",
       "  <thead>\n",
       "    <tr style=\"text-align: right;\">\n",
       "      <th></th>\n",
       "      <th>title</th>\n",
       "    </tr>\n",
       "  </thead>\n",
       "  <tbody>\n",
       "    <tr>\n",
       "      <th>54114</th>\n",
       "      <td>Sales &amp; Service Advisor II - Teller/Banker - S...</td>\n",
       "    </tr>\n",
       "    <tr>\n",
       "      <th>54226</th>\n",
       "      <td>Pre-Hire Sales &amp; Service Advisor - Teller/Bank...</td>\n",
       "    </tr>\n",
       "    <tr>\n",
       "      <th>66532</th>\n",
       "      <td>Puerto Rico- RN (Rio Piedras)</td>\n",
       "    </tr>\n",
       "    <tr>\n",
       "      <th>86564</th>\n",
       "      <td>Food Service Lead Worker - Target - San Pedro</td>\n",
       "    </tr>\n",
       "    <tr>\n",
       "      <th>87540</th>\n",
       "      <td>Commercial Lender (Full Time) -  San Antonio, ...</td>\n",
       "    </tr>\n",
       "    <tr>\n",
       "      <th>122871</th>\n",
       "      <td>Restaurant Team Member - Crew (971 - San Pedro)</td>\n",
       "    </tr>\n",
       "    <tr>\n",
       "      <th>180817</th>\n",
       "      <td>Financial Relationship Associate - Ponte Vedra...</td>\n",
       "    </tr>\n",
       "    <tr>\n",
       "      <th>219800</th>\n",
       "      <td>Commercial Lender (Full Time) -  San Antonio, ...</td>\n",
       "    </tr>\n",
       "    <tr>\n",
       "      <th>244218</th>\n",
       "      <td>Food Service Lead Worker - Target - San Pedro</td>\n",
       "    </tr>\n",
       "    <tr>\n",
       "      <th>265313</th>\n",
       "      <td>Restaurant Team Member - Crew (971 - San Pedro)</td>\n",
       "    </tr>\n",
       "    <tr>\n",
       "      <th>275775</th>\n",
       "      <td>Sales Coordinator - 8011 Cathedral City</td>\n",
       "    </tr>\n",
       "    <tr>\n",
       "      <th>279617</th>\n",
       "      <td>PT Sales Associate 2317 (Ponte Vedra)</td>\n",
       "    </tr>\n",
       "    <tr>\n",
       "      <th>280356</th>\n",
       "      <td>PT Sales Associate 2317 (Ponte Vedra)</td>\n",
       "    </tr>\n",
       "    <tr>\n",
       "      <th>280974</th>\n",
       "      <td>PT Sales Associate 2317 (Ponte Vedra)</td>\n",
       "    </tr>\n",
       "    <tr>\n",
       "      <th>356667</th>\n",
       "      <td>Plant Operator - Bedrock Sand &amp; Gravel</td>\n",
       "    </tr>\n",
       "    <tr>\n",
       "      <th>356785</th>\n",
       "      <td>Production/Plant Leadperson - Bedrock Sand &amp; G...</td>\n",
       "    </tr>\n",
       "    <tr>\n",
       "      <th>380386</th>\n",
       "      <td>Relationship Banker - Long Beach East/West, Sa...</td>\n",
       "    </tr>\n",
       "    <tr>\n",
       "      <th>461402</th>\n",
       "      <td>Environmental Specialist III - Fredricksburg, VA</td>\n",
       "    </tr>\n",
       "    <tr>\n",
       "      <th>461526</th>\n",
       "      <td>Environmental Specialist II-Strongpak Fredrick...</td>\n",
       "    </tr>\n",
       "    <tr>\n",
       "      <th>462801</th>\n",
       "      <td>Senior Operations Manager (Pedricktown, NJ)</td>\n",
       "    </tr>\n",
       "    <tr>\n",
       "      <th>500895</th>\n",
       "      <td>Sales &amp; Service Advisor II - Teller/Banker - S...</td>\n",
       "    </tr>\n",
       "    <tr>\n",
       "      <th>501120</th>\n",
       "      <td>Pre-Hire Sales &amp; Service Advisor - Teller/Bank...</td>\n",
       "    </tr>\n",
       "    <tr>\n",
       "      <th>517849</th>\n",
       "      <td>Puerto Rico- RN (Rio Piedras)</td>\n",
       "    </tr>\n",
       "    <tr>\n",
       "      <th>576312</th>\n",
       "      <td>Commercial Lender (Full Time) -  San Antonio, ...</td>\n",
       "    </tr>\n",
       "    <tr>\n",
       "      <th>603070</th>\n",
       "      <td>Food Service Lead Worker - Target - San Pedro</td>\n",
       "    </tr>\n",
       "    <tr>\n",
       "      <th>618379</th>\n",
       "      <td>Restaurant Team Member - Crew (971 - San Pedro)</td>\n",
       "    </tr>\n",
       "    <tr>\n",
       "      <th>746128</th>\n",
       "      <td>Sales &amp; Service Advisor II - Teller/Banker - S...</td>\n",
       "    </tr>\n",
       "    <tr>\n",
       "      <th>746878</th>\n",
       "      <td>Pre-Hire Sales &amp; Service Advisor - Teller/Bank...</td>\n",
       "    </tr>\n",
       "    <tr>\n",
       "      <th>754406</th>\n",
       "      <td>Puerto Rico- RN (Rio Piedras)</td>\n",
       "    </tr>\n",
       "    <tr>\n",
       "      <th>794569</th>\n",
       "      <td>Production/Plant Leadperson - Bedrock Sand &amp; G...</td>\n",
       "    </tr>\n",
       "    <tr>\n",
       "      <th>...</th>\n",
       "      <td>...</td>\n",
       "    </tr>\n",
       "    <tr>\n",
       "      <th>3913551</th>\n",
       "      <td>Financial Sales Advisor - Personal Banker - Sa...</td>\n",
       "    </tr>\n",
       "    <tr>\n",
       "      <th>3914042</th>\n",
       "      <td>Sales &amp; Service Advisor II - Teller/Banker - S...</td>\n",
       "    </tr>\n",
       "    <tr>\n",
       "      <th>3939574</th>\n",
       "      <td>Puerto Rico- RN (Rio Piedras)</td>\n",
       "    </tr>\n",
       "    <tr>\n",
       "      <th>3962773</th>\n",
       "      <td>Psych Sales Fredrick MD</td>\n",
       "    </tr>\n",
       "    <tr>\n",
       "      <th>3998475</th>\n",
       "      <td>Sales Coordinator - 8011 Cathedral City</td>\n",
       "    </tr>\n",
       "    <tr>\n",
       "      <th>4001834</th>\n",
       "      <td>PT Sales Associate 2317 (Ponte Vedra)</td>\n",
       "    </tr>\n",
       "    <tr>\n",
       "      <th>4003083</th>\n",
       "      <td>PT Sales Associate 2317 (Ponte Vedra)</td>\n",
       "    </tr>\n",
       "    <tr>\n",
       "      <th>4003168</th>\n",
       "      <td>Delivery Driver II DOT/Med - P/T - 8011 Cathed...</td>\n",
       "    </tr>\n",
       "    <tr>\n",
       "      <th>4071265</th>\n",
       "      <td>Commercial Lender (Full Time) -  San Antonio, ...</td>\n",
       "    </tr>\n",
       "    <tr>\n",
       "      <th>4083262</th>\n",
       "      <td>Food Service Lead Worker - Target - San Pedro</td>\n",
       "    </tr>\n",
       "    <tr>\n",
       "      <th>4111382</th>\n",
       "      <td>Restaurant Team Member - Crew (971 - San Pedro)</td>\n",
       "    </tr>\n",
       "    <tr>\n",
       "      <th>4216433</th>\n",
       "      <td>Psych Sales Fredrick MD</td>\n",
       "    </tr>\n",
       "    <tr>\n",
       "      <th>4217986</th>\n",
       "      <td>Plant Operator - Bedrock Sand &amp; Gravel</td>\n",
       "    </tr>\n",
       "    <tr>\n",
       "      <th>4303610</th>\n",
       "      <td>Environmental Specialist II-Strongpak Fredrick...</td>\n",
       "    </tr>\n",
       "    <tr>\n",
       "      <th>4304043</th>\n",
       "      <td>Environmental Specialist II - Fredricksburg, VA</td>\n",
       "    </tr>\n",
       "    <tr>\n",
       "      <th>4304500</th>\n",
       "      <td>Environmental Specialist III - Fredricksburg, VA</td>\n",
       "    </tr>\n",
       "    <tr>\n",
       "      <th>4327632</th>\n",
       "      <td>Pre-Hire Sales &amp; Service Advisor - Teller/Bank...</td>\n",
       "    </tr>\n",
       "    <tr>\n",
       "      <th>4328246</th>\n",
       "      <td>Financial Sales Advisor - Personal Banker - Sa...</td>\n",
       "    </tr>\n",
       "    <tr>\n",
       "      <th>4328593</th>\n",
       "      <td>Sales &amp; Service Advisor II - Teller/Banker - S...</td>\n",
       "    </tr>\n",
       "    <tr>\n",
       "      <th>4358225</th>\n",
       "      <td>Puerto Rico- RN (Rio Piedras)</td>\n",
       "    </tr>\n",
       "    <tr>\n",
       "      <th>4446911</th>\n",
       "      <td>Commercial Lender (Full Time) -  San Antonio, ...</td>\n",
       "    </tr>\n",
       "    <tr>\n",
       "      <th>4454396</th>\n",
       "      <td>Sales Coordinator - 8011 Cathedral City</td>\n",
       "    </tr>\n",
       "    <tr>\n",
       "      <th>4459974</th>\n",
       "      <td>PT Sales Associate 2317 (Ponte Vedra)</td>\n",
       "    </tr>\n",
       "    <tr>\n",
       "      <th>4460223</th>\n",
       "      <td>PT Sales Associate 2317 (Ponte Vedra)</td>\n",
       "    </tr>\n",
       "    <tr>\n",
       "      <th>4460554</th>\n",
       "      <td>Delivery Driver II DOT/Med - P/T - 8011 Cathed...</td>\n",
       "    </tr>\n",
       "    <tr>\n",
       "      <th>4485369</th>\n",
       "      <td>Food Service Lead Worker - Target - San Pedro</td>\n",
       "    </tr>\n",
       "    <tr>\n",
       "      <th>4493379</th>\n",
       "      <td>Restaurant Team Member - Crew (971 - San Pedro)</td>\n",
       "    </tr>\n",
       "    <tr>\n",
       "      <th>4577705</th>\n",
       "      <td>Plant Operator - Bedrock Sand &amp; Gravel</td>\n",
       "    </tr>\n",
       "    <tr>\n",
       "      <th>4581258</th>\n",
       "      <td>Psych Sales Fredrick MD</td>\n",
       "    </tr>\n",
       "    <tr>\n",
       "      <th>4687709</th>\n",
       "      <td>Senior Operations Manager (Pedricktown, NJ)</td>\n",
       "    </tr>\n",
       "  </tbody>\n",
       "</table>\n",
       "<p>203 rows × 1 columns</p>\n",
       "</div>"
      ],
      "text/plain": [
       "                                                     title\n",
       "54114    Sales & Service Advisor II - Teller/Banker - S...\n",
       "54226    Pre-Hire Sales & Service Advisor - Teller/Bank...\n",
       "66532                        Puerto Rico- RN (Rio Piedras)\n",
       "86564        Food Service Lead Worker - Target - San Pedro\n",
       "87540    Commercial Lender (Full Time) -  San Antonio, ...\n",
       "122871     Restaurant Team Member - Crew (971 - San Pedro)\n",
       "180817   Financial Relationship Associate - Ponte Vedra...\n",
       "219800   Commercial Lender (Full Time) -  San Antonio, ...\n",
       "244218       Food Service Lead Worker - Target - San Pedro\n",
       "265313     Restaurant Team Member - Crew (971 - San Pedro)\n",
       "275775             Sales Coordinator - 8011 Cathedral City\n",
       "279617               PT Sales Associate 2317 (Ponte Vedra)\n",
       "280356               PT Sales Associate 2317 (Ponte Vedra)\n",
       "280974               PT Sales Associate 2317 (Ponte Vedra)\n",
       "356667              Plant Operator - Bedrock Sand & Gravel\n",
       "356785   Production/Plant Leadperson - Bedrock Sand & G...\n",
       "380386   Relationship Banker - Long Beach East/West, Sa...\n",
       "461402    Environmental Specialist III - Fredricksburg, VA\n",
       "461526   Environmental Specialist II-Strongpak Fredrick...\n",
       "462801         Senior Operations Manager (Pedricktown, NJ)\n",
       "500895   Sales & Service Advisor II - Teller/Banker - S...\n",
       "501120   Pre-Hire Sales & Service Advisor - Teller/Bank...\n",
       "517849                       Puerto Rico- RN (Rio Piedras)\n",
       "576312   Commercial Lender (Full Time) -  San Antonio, ...\n",
       "603070       Food Service Lead Worker - Target - San Pedro\n",
       "618379     Restaurant Team Member - Crew (971 - San Pedro)\n",
       "746128   Sales & Service Advisor II - Teller/Banker - S...\n",
       "746878   Pre-Hire Sales & Service Advisor - Teller/Bank...\n",
       "754406                       Puerto Rico- RN (Rio Piedras)\n",
       "794569   Production/Plant Leadperson - Bedrock Sand & G...\n",
       "...                                                    ...\n",
       "3913551  Financial Sales Advisor - Personal Banker - Sa...\n",
       "3914042  Sales & Service Advisor II - Teller/Banker - S...\n",
       "3939574                      Puerto Rico- RN (Rio Piedras)\n",
       "3962773                            Psych Sales Fredrick MD\n",
       "3998475            Sales Coordinator - 8011 Cathedral City\n",
       "4001834              PT Sales Associate 2317 (Ponte Vedra)\n",
       "4003083              PT Sales Associate 2317 (Ponte Vedra)\n",
       "4003168  Delivery Driver II DOT/Med - P/T - 8011 Cathed...\n",
       "4071265  Commercial Lender (Full Time) -  San Antonio, ...\n",
       "4083262      Food Service Lead Worker - Target - San Pedro\n",
       "4111382    Restaurant Team Member - Crew (971 - San Pedro)\n",
       "4216433                            Psych Sales Fredrick MD\n",
       "4217986             Plant Operator - Bedrock Sand & Gravel\n",
       "4303610  Environmental Specialist II-Strongpak Fredrick...\n",
       "4304043    Environmental Specialist II - Fredricksburg, VA\n",
       "4304500   Environmental Specialist III - Fredricksburg, VA\n",
       "4327632  Pre-Hire Sales & Service Advisor - Teller/Bank...\n",
       "4328246  Financial Sales Advisor - Personal Banker - Sa...\n",
       "4328593  Sales & Service Advisor II - Teller/Banker - S...\n",
       "4358225                      Puerto Rico- RN (Rio Piedras)\n",
       "4446911  Commercial Lender (Full Time) -  San Antonio, ...\n",
       "4454396            Sales Coordinator - 8011 Cathedral City\n",
       "4459974              PT Sales Associate 2317 (Ponte Vedra)\n",
       "4460223              PT Sales Associate 2317 (Ponte Vedra)\n",
       "4460554  Delivery Driver II DOT/Med - P/T - 8011 Cathed...\n",
       "4485369      Food Service Lead Worker - Target - San Pedro\n",
       "4493379    Restaurant Team Member - Crew (971 - San Pedro)\n",
       "4577705             Plant Operator - Bedrock Sand & Gravel\n",
       "4581258                            Psych Sales Fredrick MD\n",
       "4687709        Senior Operations Manager (Pedricktown, NJ)\n",
       "\n",
       "[203 rows x 1 columns]"
      ]
     },
     "execution_count": 29,
     "metadata": {},
     "output_type": "execute_result"
    }
   ],
   "source": [
    "df[df['title'].apply(lambda x: 'edr' in x)]"
   ]
  },
  {
   "cell_type": "markdown",
   "metadata": {},
   "source": [
    "## Get doc matrix"
   ]
  },
  {
   "cell_type": "code",
   "execution_count": null,
   "metadata": {},
   "outputs": [],
   "source": [
    "def get_line(files):\n",
    "    for file in tqdm(files, desc='files'):\n",
    "        df = pd.read_feather(file, columns=['title'])\n",
    "        df = df['title'].str.split().tolist()\n",
    "        for text in tqdm(df, desc='{} text'.format(file)):\n",
    "            yield text\n",
    "\n",
    "doc_term_matrix = [dictionary.doc2bow(text) for text in tqdm(titles, desc='{} text'.format(file))]"
   ]
  },
  {
   "cell_type": "markdown",
   "metadata": {},
   "source": [
    "## Iteratively Train LsiModel "
   ]
  },
  {
   "cell_type": "code",
   "execution_count": 7,
   "metadata": {},
   "outputs": [],
   "source": [
    "def get_line(files):\n",
    "    for file in tqdm(files, desc='files'):\n",
    "        df = pd.read_feather(file, columns=['title'])\n",
    "        df = df['title'].str.split().tolist()\n",
    "        for text in tqdm(df, desc='{} text'.format(file)):\n",
    "            yield text\n",
    "\n",
    "def create_gensim_lsa_model(files, number_of_topics, dictionary):\n",
    "    \"\"\"\n",
    "    Input  : clean document, number of topics and number of words associated with each topic\n",
    "    Purpose: create LSA model using gensim\n",
    "    Output : return LSA model\n",
    "    \"\"\"\n",
    "    lsamodel = LsiModel(corpus=None, num_topics=number_of_topics, id2word=dictionary)\n",
    "    for file in tqdm(files, desc='feathers'):\n",
    "        df = pd.read_feather(file, columns=['title'])\n",
    "        titles = df['title'].str.split().tolist()\n",
    "        doc_term_matrix = [dictionary.doc2bow(text) for text in tqdm(titles, desc='{} text'.format(file))]\n",
    "        # generate LSA model\n",
    "        lsamodel.add_documents(doc_term_matrix)  # add documents\n",
    "    #     print(lsamodel.print_topics(num_topics=number_of_topics, num_words=words))\n",
    "    return lsamodel"
   ]
  },
  {
   "cell_type": "code",
   "execution_count": 8,
   "metadata": {
    "collapsed": true,
    "jupyter": {
     "outputs_hidden": true
    }
   },
   "outputs": [
    {
     "data": {
      "application/vnd.jupyter.widget-view+json": {
       "model_id": "d93bbf78db6741b2be2fc825033b9ed9",
       "version_major": 2,
       "version_minor": 0
      },
      "text/plain": [
       "HBox(children=(IntProgress(value=0, description='feathers', max=41, style=ProgressStyle(description_width='ini…"
      ]
     },
     "metadata": {},
     "output_type": "display_data"
    },
    {
     "data": {
      "application/vnd.jupyter.widget-view+json": {
       "model_id": "5e574c59412f456d958a89ab75e8e123",
       "version_major": 2,
       "version_minor": 0
      },
      "text/plain": [
       "HBox(children=(IntProgress(value=0, description='title_cache/titles_37.feather text', max=2632243, style=Progr…"
      ]
     },
     "metadata": {},
     "output_type": "display_data"
    },
    {
     "data": {
      "application/vnd.jupyter.widget-view+json": {
       "model_id": "50ec5e2e5eff42a7bda0b742edd8768b",
       "version_major": 2,
       "version_minor": 0
      },
      "text/plain": [
       "HBox(children=(IntProgress(value=0, description='title_cache/titles_27.feather text', max=2683916, style=Progr…"
      ]
     },
     "metadata": {},
     "output_type": "display_data"
    },
    {
     "data": {
      "application/vnd.jupyter.widget-view+json": {
       "model_id": "468f34848b664634a589eec996c89e59",
       "version_major": 2,
       "version_minor": 0
      },
      "text/plain": [
       "HBox(children=(IntProgress(value=0, description='title_cache/titles_3.feather text', max=2920704, style=Progre…"
      ]
     },
     "metadata": {},
     "output_type": "display_data"
    },
    {
     "data": {
      "application/vnd.jupyter.widget-view+json": {
       "model_id": "bd05c17314b741699c83bbe5696447c7",
       "version_major": 2,
       "version_minor": 0
      },
      "text/plain": [
       "HBox(children=(IntProgress(value=0, description='title_cache/titles_18.feather text', max=335030, style=Progre…"
      ]
     },
     "metadata": {},
     "output_type": "display_data"
    },
    {
     "data": {
      "application/vnd.jupyter.widget-view+json": {
       "model_id": "a18faac5f767413390aee1c9aed3a33d",
       "version_major": 2,
       "version_minor": 0
      },
      "text/plain": [
       "HBox(children=(IntProgress(value=0, description='title_cache/titles_11.feather text', max=2667549, style=Progr…"
      ]
     },
     "metadata": {},
     "output_type": "display_data"
    },
    {
     "data": {
      "application/vnd.jupyter.widget-view+json": {
       "model_id": "05ee1e04b1f1424da8695a07e4346a8e",
       "version_major": 2,
       "version_minor": 0
      },
      "text/plain": [
       "HBox(children=(IntProgress(value=0, description='title_cache/titles_10.feather text', max=2581474, style=Progr…"
      ]
     },
     "metadata": {},
     "output_type": "display_data"
    },
    {
     "data": {
      "application/vnd.jupyter.widget-view+json": {
       "model_id": "19f47f5c63de491992a927282f6859bd",
       "version_major": 2,
       "version_minor": 0
      },
      "text/plain": [
       "HBox(children=(IntProgress(value=0, description='title_cache/titles_2.feather text', max=1494096, style=Progre…"
      ]
     },
     "metadata": {},
     "output_type": "display_data"
    },
    {
     "data": {
      "application/vnd.jupyter.widget-view+json": {
       "model_id": "e933261383a54d758380dabf1ac8c8c5",
       "version_major": 2,
       "version_minor": 0
      },
      "text/plain": [
       "HBox(children=(IntProgress(value=0, description='title_cache/titles_26.feather text', max=2375352, style=Progr…"
      ]
     },
     "metadata": {},
     "output_type": "display_data"
    },
    {
     "data": {
      "application/vnd.jupyter.widget-view+json": {
       "model_id": "a52eb7de90524709a5e36ac9cf675a2f",
       "version_major": 2,
       "version_minor": 0
      },
      "text/plain": [
       "HBox(children=(IntProgress(value=0, description='title_cache/titles_36.feather text', max=2645286, style=Progr…"
      ]
     },
     "metadata": {},
     "output_type": "display_data"
    },
    {
     "data": {
      "application/vnd.jupyter.widget-view+json": {
       "model_id": "8e8f2ed4c1be4b5d95741c7c606f5bce",
       "version_major": 2,
       "version_minor": 0
      },
      "text/plain": [
       "HBox(children=(IntProgress(value=0, description='title_cache/titles_19.feather text', max=2567327, style=Progr…"
      ]
     },
     "metadata": {},
     "output_type": "display_data"
    },
    {
     "data": {
      "application/vnd.jupyter.widget-view+json": {
       "model_id": "eb815ef3cae84f2a88bfdb6bf2f531a3",
       "version_major": 2,
       "version_minor": 0
      },
      "text/plain": [
       "HBox(children=(IntProgress(value=0, description='title_cache/titles_9.feather text', max=2867479, style=Progre…"
      ]
     },
     "metadata": {},
     "output_type": "display_data"
    },
    {
     "data": {
      "application/vnd.jupyter.widget-view+json": {
       "model_id": "e0aecbd3906e477d9cd7c6d2bfc24400",
       "version_major": 2,
       "version_minor": 0
      },
      "text/plain": [
       "HBox(children=(IntProgress(value=0, description='title_cache/titles_12.feather text', max=1714149, style=Progr…"
      ]
     },
     "metadata": {},
     "output_type": "display_data"
    },
    {
     "data": {
      "application/vnd.jupyter.widget-view+json": {
       "model_id": "3641bac98172493fbf6c04edddf2d1fb",
       "version_major": 2,
       "version_minor": 0
      },
      "text/plain": [
       "HBox(children=(IntProgress(value=0, description='title_cache/titles_0.feather text', max=2683916, style=Progre…"
      ]
     },
     "metadata": {},
     "output_type": "display_data"
    },
    {
     "data": {
      "application/vnd.jupyter.widget-view+json": {
       "model_id": "9d83754857dd4b2a9298a06b795b98eb",
       "version_major": 2,
       "version_minor": 0
      },
      "text/plain": [
       "HBox(children=(IntProgress(value=0, description='title_cache/titles_34.feather text', max=2503773, style=Progr…"
      ]
     },
     "metadata": {},
     "output_type": "display_data"
    },
    {
     "data": {
      "application/vnd.jupyter.widget-view+json": {
       "model_id": "79e6e9875be24d33bc1f79334cc59f86",
       "version_major": 2,
       "version_minor": 0
      },
      "text/plain": [
       "HBox(children=(IntProgress(value=0, description='title_cache/titles_24.feather text', max=879895, style=Progre…"
      ]
     },
     "metadata": {},
     "output_type": "display_data"
    },
    {
     "data": {
      "application/vnd.jupyter.widget-view+json": {
       "model_id": "c225f634da464d8290e36e901c68c72c",
       "version_major": 2,
       "version_minor": 0
      },
      "text/plain": [
       "HBox(children=(IntProgress(value=0, description='title_cache/titles_25.feather text', max=2197294, style=Progr…"
      ]
     },
     "metadata": {},
     "output_type": "display_data"
    },
    {
     "data": {
      "application/vnd.jupyter.widget-view+json": {
       "model_id": "02fb88f5e7044a29a325d210dfddb43a",
       "version_major": 2,
       "version_minor": 0
      },
      "text/plain": [
       "HBox(children=(IntProgress(value=0, description='title_cache/titles_35.feather text', max=1077185, style=Progr…"
      ]
     },
     "metadata": {},
     "output_type": "display_data"
    },
    {
     "data": {
      "application/vnd.jupyter.widget-view+json": {
       "model_id": "d9bd48537a8441e1a11ef78a299dc05f",
       "version_major": 2,
       "version_minor": 0
      },
      "text/plain": [
       "HBox(children=(IntProgress(value=0, description='title_cache/titles_1.feather text', max=2581474, style=Progre…"
      ]
     },
     "metadata": {},
     "output_type": "display_data"
    },
    {
     "data": {
      "application/vnd.jupyter.widget-view+json": {
       "model_id": "2aa6f613544a46d58081a1a5c75728a9",
       "version_major": 2,
       "version_minor": 0
      },
      "text/plain": [
       "HBox(children=(IntProgress(value=0, description='title_cache/titles_8.feather text', max=1710598, style=Progre…"
      ]
     },
     "metadata": {},
     "output_type": "display_data"
    },
    {
     "data": {
      "application/vnd.jupyter.widget-view+json": {
       "model_id": "10297d765a9e4bbcb3ad37fb1a6f0b72",
       "version_major": 2,
       "version_minor": 0
      },
      "text/plain": [
       "HBox(children=(IntProgress(value=0, description='title_cache/titles_13.feather text', max=2567327, style=Progr…"
      ]
     },
     "metadata": {},
     "output_type": "display_data"
    },
    {
     "data": {
      "application/vnd.jupyter.widget-view+json": {
       "model_id": "edc3c9978e014343a1ff1cffcd308c34",
       "version_major": 2,
       "version_minor": 0
      },
      "text/plain": [
       "HBox(children=(IntProgress(value=0, description='title_cache/titles_16.feather text', max=1601517, style=Progr…"
      ]
     },
     "metadata": {},
     "output_type": "display_data"
    },
    {
     "data": {
      "application/vnd.jupyter.widget-view+json": {
       "model_id": "d07b43e12fbb4187bce64f2f9c018e79",
       "version_major": 2,
       "version_minor": 0
      },
      "text/plain": [
       "HBox(children=(IntProgress(value=0, description='title_cache/titles_29.feather text', max=2555649, style=Progr…"
      ]
     },
     "metadata": {},
     "output_type": "display_data"
    },
    {
     "data": {
      "application/vnd.jupyter.widget-view+json": {
       "model_id": "ab6d2b31fb304629807efbc878d9aa56",
       "version_major": 2,
       "version_minor": 0
      },
      "text/plain": [
       "HBox(children=(IntProgress(value=0, description='title_cache/titles_39.feather text', max=2602043, style=Progr…"
      ]
     },
     "metadata": {},
     "output_type": "display_data"
    },
    {
     "data": {
      "application/vnd.jupyter.widget-view+json": {
       "model_id": "a692ce63ebce419591f96916e38ab871",
       "version_major": 2,
       "version_minor": 0
      },
      "text/plain": [
       "HBox(children=(IntProgress(value=0, description='title_cache/titles_30.feather text', max=727684, style=Progre…"
      ]
     },
     "metadata": {},
     "output_type": "display_data"
    },
    {
     "data": {
      "application/vnd.jupyter.widget-view+json": {
       "model_id": "404be43ef1774fb4b59b4baebe5d332d",
       "version_major": 2,
       "version_minor": 0
      },
      "text/plain": [
       "HBox(children=(IntProgress(value=0, description='title_cache/titles_20.feather text', max=1361631, style=Progr…"
      ]
     },
     "metadata": {},
     "output_type": "display_data"
    },
    {
     "data": {
      "application/vnd.jupyter.widget-view+json": {
       "model_id": "0bfb6244fb8d4297aae0da30674b5258",
       "version_major": 2,
       "version_minor": 0
      },
      "text/plain": [
       "HBox(children=(IntProgress(value=0, description='title_cache/titles_4.feather text', max=2829413, style=Progre…"
      ]
     },
     "metadata": {},
     "output_type": "display_data"
    },
    {
     "data": {
      "application/vnd.jupyter.widget-view+json": {
       "model_id": "18031313d55c4a81a97e32df903d448f",
       "version_major": 2,
       "version_minor": 0
      },
      "text/plain": [
       "HBox(children=(IntProgress(value=0, description='title_cache/titles_5.feather text', max=335030, style=Progres…"
      ]
     },
     "metadata": {},
     "output_type": "display_data"
    },
    {
     "data": {
      "application/vnd.jupyter.widget-view+json": {
       "model_id": "b863998b36e84d1b8d09c868649ed1bf",
       "version_major": 2,
       "version_minor": 0
      },
      "text/plain": [
       "HBox(children=(IntProgress(value=0, description='title_cache/titles_21.feather text', max=2383862, style=Progr…"
      ]
     },
     "metadata": {},
     "output_type": "display_data"
    },
    {
     "data": {
      "application/vnd.jupyter.widget-view+json": {
       "model_id": "8a131beb65614cc5942fe189c5eda4bb",
       "version_major": 2,
       "version_minor": 0
      },
      "text/plain": [
       "HBox(children=(IntProgress(value=0, description='title_cache/titles_31.feather text', max=373657, style=Progre…"
      ]
     },
     "metadata": {},
     "output_type": "display_data"
    },
    {
     "data": {
      "application/vnd.jupyter.widget-view+json": {
       "model_id": "5e6ba99cc2fc496cb777ae491fd79e4e",
       "version_major": 2,
       "version_minor": 0
      },
      "text/plain": [
       "HBox(children=(IntProgress(value=0, description='title_cache/titles_17.feather text', max=1487397, style=Progr…"
      ]
     },
     "metadata": {},
     "output_type": "display_data"
    },
    {
     "data": {
      "application/vnd.jupyter.widget-view+json": {
       "model_id": "a9b3c866f495488c9d16bd5165efec38",
       "version_major": 2,
       "version_minor": 0
      },
      "text/plain": [
       "HBox(children=(IntProgress(value=0, description='title_cache/titles_38.feather text', max=1098258, style=Progr…"
      ]
     },
     "metadata": {},
     "output_type": "display_data"
    },
    {
     "data": {
      "application/vnd.jupyter.widget-view+json": {
       "model_id": "8ca17567ed844bba870ce50681873678",
       "version_major": 2,
       "version_minor": 0
      },
      "text/plain": [
       "HBox(children=(IntProgress(value=0, description='title_cache/titles_28.feather text', max=2555366, style=Progr…"
      ]
     },
     "metadata": {},
     "output_type": "display_data"
    },
    {
     "data": {
      "application/vnd.jupyter.widget-view+json": {
       "model_id": "8e7c409ad1b24105acfc37b627f4b347",
       "version_major": 2,
       "version_minor": 0
      },
      "text/plain": [
       "HBox(children=(IntProgress(value=0, description='title_cache/titles_7.feather text', max=2774958, style=Progre…"
      ]
     },
     "metadata": {},
     "output_type": "display_data"
    },
    {
     "data": {
      "application/vnd.jupyter.widget-view+json": {
       "model_id": "af7c05516aff40e58d5f6da449cd889f",
       "version_major": 2,
       "version_minor": 0
      },
      "text/plain": [
       "HBox(children=(IntProgress(value=0, description='title_cache/titles_33.feather text', max=1710598, style=Progr…"
      ]
     },
     "metadata": {},
     "output_type": "display_data"
    },
    {
     "data": {
      "application/vnd.jupyter.widget-view+json": {
       "model_id": "4027956351664b7ba23f79c3bca404b3",
       "version_major": 2,
       "version_minor": 0
      },
      "text/plain": [
       "HBox(children=(IntProgress(value=0, description='title_cache/titles_23.feather text', max=2388760, style=Progr…"
      ]
     },
     "metadata": {},
     "output_type": "display_data"
    },
    {
     "data": {
      "application/vnd.jupyter.widget-view+json": {
       "model_id": "fac6ddf9b5cf43db83a01da59a8d0d43",
       "version_major": 2,
       "version_minor": 0
      },
      "text/plain": [
       "HBox(children=(IntProgress(value=0, description='title_cache/titles_15.feather text', max=2181246, style=Progr…"
      ]
     },
     "metadata": {},
     "output_type": "display_data"
    },
    {
     "data": {
      "application/vnd.jupyter.widget-view+json": {
       "model_id": "c8450d50570b4739b3575b2e3646baf9",
       "version_major": 2,
       "version_minor": 0
      },
      "text/plain": [
       "HBox(children=(IntProgress(value=0, description='title_cache/titles_14.feather text', max=2645516, style=Progr…"
      ]
     },
     "metadata": {},
     "output_type": "display_data"
    },
    {
     "data": {
      "application/vnd.jupyter.widget-view+json": {
       "model_id": "96423bd2abc84c3fa7e0bede8f29ee4c",
       "version_major": 2,
       "version_minor": 0
      },
      "text/plain": [
       "HBox(children=(IntProgress(value=0, description='title_cache/titles_22.feather text', max=2771874, style=Progr…"
      ]
     },
     "metadata": {},
     "output_type": "display_data"
    },
    {
     "data": {
      "application/vnd.jupyter.widget-view+json": {
       "model_id": "8dc8f0d94c6247ef9fef27df803292a0",
       "version_major": 2,
       "version_minor": 0
      },
      "text/plain": [
       "HBox(children=(IntProgress(value=0, description='title_cache/titles_32.feather text', max=2555366, style=Progr…"
      ]
     },
     "metadata": {},
     "output_type": "display_data"
    },
    {
     "data": {
      "application/vnd.jupyter.widget-view+json": {
       "model_id": "3cf451db9e624aacad2d68496cfbd866",
       "version_major": 2,
       "version_minor": 0
      },
      "text/plain": [
       "HBox(children=(IntProgress(value=0, description='title_cache/titles_6.feather text', max=1637789, style=Progre…"
      ]
     },
     "metadata": {},
     "output_type": "display_data"
    },
    {
     "data": {
      "application/vnd.jupyter.widget-view+json": {
       "model_id": "ca5a694aaedd461ea49e8caa91f2f576",
       "version_major": 2,
       "version_minor": 0
      },
      "text/plain": [
       "HBox(children=(IntProgress(value=0, description='title_cache/titles_40.feather text', max=2375352, style=Progr…"
      ]
     },
     "metadata": {},
     "output_type": "display_data"
    },
    {
     "name": "stdout",
     "output_type": "stream",
     "text": [
      "\n"
     ]
    }
   ],
   "source": [
    "folder = 'title_cache'\n",
    "files = [os.path.join(folder, file) for file in os.listdir(folder) if file.endswith('.feather')]\n",
    "\n",
    "lsamodel = create_gensim_lsa_model(files=files, number_of_topics=50, dictionary=dictionary)"
   ]
  },
  {
   "cell_type": "code",
   "execution_count": 9,
   "metadata": {},
   "outputs": [],
   "source": [
    "with open('transforms/lsamodel.pkd', 'wb') as file:\n",
    "    dill.dump(lsamodel, file)"
   ]
  },
  {
   "cell_type": "markdown",
   "metadata": {},
   "source": [
    "### Get topics"
   ]
  },
  {
   "cell_type": "code",
   "execution_count": 94,
   "metadata": {},
   "outputs": [],
   "source": [
    "topics = []\n",
    "for i, topic in enumerate(lsamodel.get_topics()):\n",
    "    df = pd.DataFrame({'keyword': list(dictionary.values()), 'weight': topic, 'num': [i]*len(topic)})\n",
    "    df.sort_values('weight', ascending=False, inplace=True)\n",
    "    topics.append(df)\n",
    "    \n",
    "topics = pd.concat(topics)\n",
    "topics.set_index(['num', 'keyword'], inplace=True)\n",
    "topics.reset_index().to_feather('transforms/topics.feather')"
   ]
  },
  {
   "cell_type": "markdown",
   "metadata": {},
   "source": [
    "## Build sparse matrix instead"
   ]
  },
  {
   "cell_type": "code",
   "execution_count": 4,
   "metadata": {},
   "outputs": [],
   "source": [
    "def get_line(files):\n",
    "    for file in tqdm(files, desc='files'):\n",
    "        df = pd.read_feather(file, columns=['title'])\n",
    "        for text in tqdm(df['title'], desc='{} text'.format(file)):\n",
    "            yield text"
   ]
  },
  {
   "cell_type": "code",
   "execution_count": 284,
   "metadata": {
    "collapsed": true,
    "jupyter": {
     "outputs_hidden": true
    }
   },
   "outputs": [
    {
     "data": {
      "application/vnd.jupyter.widget-view+json": {
       "model_id": "06500358c22f405abc06d351f12472ba",
       "version_major": 2,
       "version_minor": 0
      },
      "text/plain": [
       "HBox(children=(IntProgress(value=0, description='files', max=41, style=ProgressStyle(description_width='initia…"
      ]
     },
     "metadata": {},
     "output_type": "display_data"
    },
    {
     "name": "stderr",
     "output_type": "stream",
     "text": [
      "/Users/garychen/anaconda3/envs/TDI/lib/python3.7/site-packages/pyarrow/pandas_compat.py:752: FutureWarning: .labels was deprecated in version 0.24.0. Use .codes instead.\n",
      "  labels, = index.labels\n"
     ]
    },
    {
     "data": {
      "application/vnd.jupyter.widget-view+json": {
       "model_id": "850a180189f5447f8898aec216faf6d8",
       "version_major": 2,
       "version_minor": 0
      },
      "text/plain": [
       "HBox(children=(IntProgress(value=0, description='title_cache/titles_37.feather text', max=2632243, style=Progr…"
      ]
     },
     "metadata": {},
     "output_type": "display_data"
    },
    {
     "data": {
      "application/vnd.jupyter.widget-view+json": {
       "model_id": "74d03195d9d3450b9c510138b8fc5f08",
       "version_major": 2,
       "version_minor": 0
      },
      "text/plain": [
       "HBox(children=(IntProgress(value=0, description='title_cache/titles_27.feather text', max=2683916, style=Progr…"
      ]
     },
     "metadata": {},
     "output_type": "display_data"
    },
    {
     "data": {
      "application/vnd.jupyter.widget-view+json": {
       "model_id": "298004ec83ec476991949fe623037ef7",
       "version_major": 2,
       "version_minor": 0
      },
      "text/plain": [
       "HBox(children=(IntProgress(value=0, description='title_cache/titles_3.feather text', max=2920704, style=Progre…"
      ]
     },
     "metadata": {},
     "output_type": "display_data"
    },
    {
     "data": {
      "application/vnd.jupyter.widget-view+json": {
       "model_id": "4543fd8870ca4b37b8036aef421cfce0",
       "version_major": 2,
       "version_minor": 0
      },
      "text/plain": [
       "HBox(children=(IntProgress(value=0, description='title_cache/titles_18.feather text', max=335030, style=Progre…"
      ]
     },
     "metadata": {},
     "output_type": "display_data"
    },
    {
     "data": {
      "application/vnd.jupyter.widget-view+json": {
       "model_id": "7afe80560b904ec9aa0edc96ae7a9f17",
       "version_major": 2,
       "version_minor": 0
      },
      "text/plain": [
       "HBox(children=(IntProgress(value=0, description='title_cache/titles_11.feather text', max=2667549, style=Progr…"
      ]
     },
     "metadata": {},
     "output_type": "display_data"
    },
    {
     "data": {
      "application/vnd.jupyter.widget-view+json": {
       "model_id": "21dac9c8da784ae8958e9936ef2ae5fc",
       "version_major": 2,
       "version_minor": 0
      },
      "text/plain": [
       "HBox(children=(IntProgress(value=0, description='title_cache/titles_10.feather text', max=2581474, style=Progr…"
      ]
     },
     "metadata": {},
     "output_type": "display_data"
    },
    {
     "data": {
      "application/vnd.jupyter.widget-view+json": {
       "model_id": "8138ab770124414b9d19742abe44aea3",
       "version_major": 2,
       "version_minor": 0
      },
      "text/plain": [
       "HBox(children=(IntProgress(value=0, description='title_cache/titles_2.feather text', max=1494096, style=Progre…"
      ]
     },
     "metadata": {},
     "output_type": "display_data"
    },
    {
     "data": {
      "application/vnd.jupyter.widget-view+json": {
       "model_id": "1a8975bb2f5648fbb28bdaeb92bf0afb",
       "version_major": 2,
       "version_minor": 0
      },
      "text/plain": [
       "HBox(children=(IntProgress(value=0, description='title_cache/titles_26.feather text', max=2375352, style=Progr…"
      ]
     },
     "metadata": {},
     "output_type": "display_data"
    },
    {
     "data": {
      "application/vnd.jupyter.widget-view+json": {
       "model_id": "c09ae711c36b4ba3a8c6feff9d82113b",
       "version_major": 2,
       "version_minor": 0
      },
      "text/plain": [
       "HBox(children=(IntProgress(value=0, description='title_cache/titles_36.feather text', max=2645286, style=Progr…"
      ]
     },
     "metadata": {},
     "output_type": "display_data"
    },
    {
     "data": {
      "application/vnd.jupyter.widget-view+json": {
       "model_id": "8e0da2bcdd33453692dc434df4e9f2b1",
       "version_major": 2,
       "version_minor": 0
      },
      "text/plain": [
       "HBox(children=(IntProgress(value=0, description='title_cache/titles_19.feather text', max=2567327, style=Progr…"
      ]
     },
     "metadata": {},
     "output_type": "display_data"
    },
    {
     "data": {
      "application/vnd.jupyter.widget-view+json": {
       "model_id": "3d4bd0f1502f481ca6d60341da18a3d6",
       "version_major": 2,
       "version_minor": 0
      },
      "text/plain": [
       "HBox(children=(IntProgress(value=0, description='title_cache/titles_9.feather text', max=2867479, style=Progre…"
      ]
     },
     "metadata": {},
     "output_type": "display_data"
    },
    {
     "data": {
      "application/vnd.jupyter.widget-view+json": {
       "model_id": "bd0699ef7e95406880cefc77d03e4ef4",
       "version_major": 2,
       "version_minor": 0
      },
      "text/plain": [
       "HBox(children=(IntProgress(value=0, description='title_cache/titles_12.feather text', max=1714149, style=Progr…"
      ]
     },
     "metadata": {},
     "output_type": "display_data"
    },
    {
     "data": {
      "application/vnd.jupyter.widget-view+json": {
       "model_id": "8dcf8c0ed7974ec1b10fb42e61424084",
       "version_major": 2,
       "version_minor": 0
      },
      "text/plain": [
       "HBox(children=(IntProgress(value=0, description='title_cache/titles_0.feather text', max=2683916, style=Progre…"
      ]
     },
     "metadata": {},
     "output_type": "display_data"
    },
    {
     "data": {
      "application/vnd.jupyter.widget-view+json": {
       "model_id": "c9b2614105184d67b84d6495fcb71fd1",
       "version_major": 2,
       "version_minor": 0
      },
      "text/plain": [
       "HBox(children=(IntProgress(value=0, description='title_cache/titles_34.feather text', max=2503773, style=Progr…"
      ]
     },
     "metadata": {},
     "output_type": "display_data"
    },
    {
     "data": {
      "application/vnd.jupyter.widget-view+json": {
       "model_id": "2101cc3654d04e948575e548af9bd68f",
       "version_major": 2,
       "version_minor": 0
      },
      "text/plain": [
       "HBox(children=(IntProgress(value=0, description='title_cache/titles_24.feather text', max=879895, style=Progre…"
      ]
     },
     "metadata": {},
     "output_type": "display_data"
    },
    {
     "data": {
      "application/vnd.jupyter.widget-view+json": {
       "model_id": "8bed1cccc2834d2cb1650cee42effed8",
       "version_major": 2,
       "version_minor": 0
      },
      "text/plain": [
       "HBox(children=(IntProgress(value=0, description='title_cache/titles_25.feather text', max=2197294, style=Progr…"
      ]
     },
     "metadata": {},
     "output_type": "display_data"
    },
    {
     "data": {
      "application/vnd.jupyter.widget-view+json": {
       "model_id": "a791a6ca7a10437bb0bf0a42f9564c9c",
       "version_major": 2,
       "version_minor": 0
      },
      "text/plain": [
       "HBox(children=(IntProgress(value=0, description='title_cache/titles_35.feather text', max=1077185, style=Progr…"
      ]
     },
     "metadata": {},
     "output_type": "display_data"
    },
    {
     "data": {
      "application/vnd.jupyter.widget-view+json": {
       "model_id": "15bf662e0b954f8aa185b8c854086eab",
       "version_major": 2,
       "version_minor": 0
      },
      "text/plain": [
       "HBox(children=(IntProgress(value=0, description='title_cache/titles_1.feather text', max=2581474, style=Progre…"
      ]
     },
     "metadata": {},
     "output_type": "display_data"
    },
    {
     "data": {
      "application/vnd.jupyter.widget-view+json": {
       "model_id": "67732fb857904900ae133096a2a11017",
       "version_major": 2,
       "version_minor": 0
      },
      "text/plain": [
       "HBox(children=(IntProgress(value=0, description='title_cache/titles_8.feather text', max=1710598, style=Progre…"
      ]
     },
     "metadata": {},
     "output_type": "display_data"
    },
    {
     "data": {
      "application/vnd.jupyter.widget-view+json": {
       "model_id": "b385d2356e1f4c64bf73f2ab4d61d4d9",
       "version_major": 2,
       "version_minor": 0
      },
      "text/plain": [
       "HBox(children=(IntProgress(value=0, description='title_cache/titles_13.feather text', max=2567327, style=Progr…"
      ]
     },
     "metadata": {},
     "output_type": "display_data"
    },
    {
     "data": {
      "application/vnd.jupyter.widget-view+json": {
       "model_id": "0eaf63a6f7db45ed8a9591e0c52cd75e",
       "version_major": 2,
       "version_minor": 0
      },
      "text/plain": [
       "HBox(children=(IntProgress(value=0, description='title_cache/titles_16.feather text', max=1601517, style=Progr…"
      ]
     },
     "metadata": {},
     "output_type": "display_data"
    },
    {
     "data": {
      "application/vnd.jupyter.widget-view+json": {
       "model_id": "0b16da41611e41108ce34708aad62fc6",
       "version_major": 2,
       "version_minor": 0
      },
      "text/plain": [
       "HBox(children=(IntProgress(value=0, description='title_cache/titles_29.feather text', max=2555649, style=Progr…"
      ]
     },
     "metadata": {},
     "output_type": "display_data"
    },
    {
     "data": {
      "application/vnd.jupyter.widget-view+json": {
       "model_id": "be99a1944e1c40f081384c903f4388ef",
       "version_major": 2,
       "version_minor": 0
      },
      "text/plain": [
       "HBox(children=(IntProgress(value=0, description='title_cache/titles_39.feather text', max=2602043, style=Progr…"
      ]
     },
     "metadata": {},
     "output_type": "display_data"
    },
    {
     "data": {
      "application/vnd.jupyter.widget-view+json": {
       "model_id": "6df0f478bbf34c66812136b4f7a5683a",
       "version_major": 2,
       "version_minor": 0
      },
      "text/plain": [
       "HBox(children=(IntProgress(value=0, description='title_cache/titles_30.feather text', max=727684, style=Progre…"
      ]
     },
     "metadata": {},
     "output_type": "display_data"
    },
    {
     "data": {
      "application/vnd.jupyter.widget-view+json": {
       "model_id": "23c017633ea7407cba79f9b8ba81df69",
       "version_major": 2,
       "version_minor": 0
      },
      "text/plain": [
       "HBox(children=(IntProgress(value=0, description='title_cache/titles_20.feather text', max=1361631, style=Progr…"
      ]
     },
     "metadata": {},
     "output_type": "display_data"
    },
    {
     "data": {
      "application/vnd.jupyter.widget-view+json": {
       "model_id": "d2276f7703784784881894574f5a4b8c",
       "version_major": 2,
       "version_minor": 0
      },
      "text/plain": [
       "HBox(children=(IntProgress(value=0, description='title_cache/titles_4.feather text', max=2829413, style=Progre…"
      ]
     },
     "metadata": {},
     "output_type": "display_data"
    },
    {
     "data": {
      "application/vnd.jupyter.widget-view+json": {
       "model_id": "122e46a59b7f48a09424bef005456f2e",
       "version_major": 2,
       "version_minor": 0
      },
      "text/plain": [
       "HBox(children=(IntProgress(value=0, description='title_cache/titles_5.feather text', max=335030, style=Progres…"
      ]
     },
     "metadata": {},
     "output_type": "display_data"
    },
    {
     "data": {
      "application/vnd.jupyter.widget-view+json": {
       "model_id": "2a04da6be4154c2eaf21ff242cbf55a4",
       "version_major": 2,
       "version_minor": 0
      },
      "text/plain": [
       "HBox(children=(IntProgress(value=0, description='title_cache/titles_21.feather text', max=2383862, style=Progr…"
      ]
     },
     "metadata": {},
     "output_type": "display_data"
    },
    {
     "data": {
      "application/vnd.jupyter.widget-view+json": {
       "model_id": "3700be8ab2874ffeaa47159c50d90c22",
       "version_major": 2,
       "version_minor": 0
      },
      "text/plain": [
       "HBox(children=(IntProgress(value=0, description='title_cache/titles_31.feather text', max=373657, style=Progre…"
      ]
     },
     "metadata": {},
     "output_type": "display_data"
    },
    {
     "data": {
      "application/vnd.jupyter.widget-view+json": {
       "model_id": "414441696bac4b21b871c7335b679605",
       "version_major": 2,
       "version_minor": 0
      },
      "text/plain": [
       "HBox(children=(IntProgress(value=0, description='title_cache/titles_17.feather text', max=1487397, style=Progr…"
      ]
     },
     "metadata": {},
     "output_type": "display_data"
    },
    {
     "data": {
      "application/vnd.jupyter.widget-view+json": {
       "model_id": "fcc4d81b5c03498dacf745ba50542ca2",
       "version_major": 2,
       "version_minor": 0
      },
      "text/plain": [
       "HBox(children=(IntProgress(value=0, description='title_cache/titles_38.feather text', max=1098258, style=Progr…"
      ]
     },
     "metadata": {},
     "output_type": "display_data"
    },
    {
     "data": {
      "application/vnd.jupyter.widget-view+json": {
       "model_id": "a12c41942f1349c08c894ca5eaa8ed39",
       "version_major": 2,
       "version_minor": 0
      },
      "text/plain": [
       "HBox(children=(IntProgress(value=0, description='title_cache/titles_28.feather text', max=2555366, style=Progr…"
      ]
     },
     "metadata": {},
     "output_type": "display_data"
    },
    {
     "data": {
      "application/vnd.jupyter.widget-view+json": {
       "model_id": "f4e42507f5e244fb8e4870683a1061cc",
       "version_major": 2,
       "version_minor": 0
      },
      "text/plain": [
       "HBox(children=(IntProgress(value=0, description='title_cache/titles_7.feather text', max=2774958, style=Progre…"
      ]
     },
     "metadata": {},
     "output_type": "display_data"
    },
    {
     "data": {
      "application/vnd.jupyter.widget-view+json": {
       "model_id": "9165c66e71b74d06a2086b311940f917",
       "version_major": 2,
       "version_minor": 0
      },
      "text/plain": [
       "HBox(children=(IntProgress(value=0, description='title_cache/titles_33.feather text', max=1710598, style=Progr…"
      ]
     },
     "metadata": {},
     "output_type": "display_data"
    },
    {
     "data": {
      "application/vnd.jupyter.widget-view+json": {
       "model_id": "5121cd1de5cb4ca4bc730c2a0dfd0c69",
       "version_major": 2,
       "version_minor": 0
      },
      "text/plain": [
       "HBox(children=(IntProgress(value=0, description='title_cache/titles_23.feather text', max=2388760, style=Progr…"
      ]
     },
     "metadata": {},
     "output_type": "display_data"
    },
    {
     "data": {
      "application/vnd.jupyter.widget-view+json": {
       "model_id": "cb17687b41464c0e81cab31608e04b74",
       "version_major": 2,
       "version_minor": 0
      },
      "text/plain": [
       "HBox(children=(IntProgress(value=0, description='title_cache/titles_15.feather text', max=2181246, style=Progr…"
      ]
     },
     "metadata": {},
     "output_type": "display_data"
    },
    {
     "data": {
      "application/vnd.jupyter.widget-view+json": {
       "model_id": "53f728fd15f446ef9770a41eb0a5d230",
       "version_major": 2,
       "version_minor": 0
      },
      "text/plain": [
       "HBox(children=(IntProgress(value=0, description='title_cache/titles_14.feather text', max=2645516, style=Progr…"
      ]
     },
     "metadata": {},
     "output_type": "display_data"
    },
    {
     "data": {
      "application/vnd.jupyter.widget-view+json": {
       "model_id": "e39bea6fa5f147baa63addbfa31dbbad",
       "version_major": 2,
       "version_minor": 0
      },
      "text/plain": [
       "HBox(children=(IntProgress(value=0, description='title_cache/titles_22.feather text', max=2771874, style=Progr…"
      ]
     },
     "metadata": {},
     "output_type": "display_data"
    },
    {
     "data": {
      "application/vnd.jupyter.widget-view+json": {
       "model_id": "e38ce6ed3a6944adac2154021f8f2498",
       "version_major": 2,
       "version_minor": 0
      },
      "text/plain": [
       "HBox(children=(IntProgress(value=0, description='title_cache/titles_32.feather text', max=2555366, style=Progr…"
      ]
     },
     "metadata": {},
     "output_type": "display_data"
    },
    {
     "data": {
      "application/vnd.jupyter.widget-view+json": {
       "model_id": "9b936f4844e54ace8bc7b1b63d1c32c3",
       "version_major": 2,
       "version_minor": 0
      },
      "text/plain": [
       "HBox(children=(IntProgress(value=0, description='title_cache/titles_6.feather text', max=1637789, style=Progre…"
      ]
     },
     "metadata": {},
     "output_type": "display_data"
    },
    {
     "data": {
      "application/vnd.jupyter.widget-view+json": {
       "model_id": "6bc3d54cad794f1b9cc0ed5197609fe6",
       "version_major": 2,
       "version_minor": 0
      },
      "text/plain": [
       "HBox(children=(IntProgress(value=0, description='title_cache/titles_40.feather text', max=2375352, style=Progr…"
      ]
     },
     "metadata": {},
     "output_type": "display_data"
    }
   ],
   "source": [
    "folder = 'title_cache'\n",
    "files = [os.path.join(folder, file) for file in os.listdir(folder) if file.endswith('.feather')]\n",
    "\n",
    "cv = CountVectorizer(max_features=5000, min_df=100)\n",
    "counted = cv.fit_transform(get_line(files))"
   ]
  },
  {
   "cell_type": "code",
   "execution_count": 286,
   "metadata": {},
   "outputs": [],
   "source": [
    "with open('transforms/counted.pkd', 'wb') as file:\n",
    "    dill.dump(counted, file)\n",
    "with open('transforms/count_vectorizer.pkd', 'wb') as file:\n",
    "    dill.dump(cv, file)"
   ]
  },
  {
   "cell_type": "code",
   "execution_count": 3,
   "metadata": {},
   "outputs": [],
   "source": [
    "with open('transforms/counted.pkd', 'rb') as file:\n",
    "    counted = dill.load(file)\n",
    "with open('transforms/count_vectorizer.pkd', 'rb') as file:\n",
    "    cv = dill.load(file)"
   ]
  }
 ],
 "metadata": {
  "kernelspec": {
   "display_name": "Python 3",
   "language": "python",
   "name": "python3"
  },
  "language_info": {
   "codemirror_mode": {
    "name": "ipython",
    "version": 3
   },
   "file_extension": ".py",
   "mimetype": "text/x-python",
   "name": "python",
   "nbconvert_exporter": "python",
   "pygments_lexer": "ipython3",
   "version": "3.7.3"
  }
 },
 "nbformat": 4,
 "nbformat_minor": 4
}
